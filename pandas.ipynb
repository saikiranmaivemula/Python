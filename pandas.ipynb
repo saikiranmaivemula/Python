{
 "cells": [
  {
   "cell_type": "code",
   "execution_count": 12,
   "id": "dce78285-f788-4bd6-bc47-1a0afe097cfe",
   "metadata": {
    "tags": []
   },
   "outputs": [
    {
     "name": "stdout",
     "output_type": "stream",
     "text": [
      "   survived  pclass     sex   age  sibsp  parch     fare embarked  class  \\\n",
      "0         0       3    male  22.0      1      0   7.2500        S  Third   \n",
      "1         1       1  female  38.0      1      0  71.2833        C  First   \n",
      "2         1       3  female  26.0      0      0   7.9250        S  Third   \n",
      "3         1       1  female  35.0      1      0  53.1000        S  First   \n",
      "4         0       3    male  35.0      0      0   8.0500        S  Third   \n",
      "\n",
      "     who  adult_male deck  embark_town alive  alone  \n",
      "0    man        True  NaN  Southampton    no  False  \n",
      "1  woman       False    C    Cherbourg   yes  False  \n",
      "2  woman       False  NaN  Southampton   yes   True  \n",
      "3  woman       False    C  Southampton   yes  False  \n",
      "4    man        True  NaN  Southampton    no   True  \n"
     ]
    }
   ],
   "source": [
    "import pandas as pd\n",
    "\n",
    "import seaborn as sns\n",
    "\n",
    "df = sns.load_dataset(\"titanic\")\n",
    "\n",
    "print(df.head())"
   ]
  },
  {
   "cell_type": "code",
   "execution_count": 14,
   "id": "699780bf-81c4-4337-b383-69dcb788d7a9",
   "metadata": {
    "tags": []
   },
   "outputs": [
    {
     "name": "stdout",
     "output_type": "stream",
     "text": [
      "<class 'pandas.core.frame.DataFrame'>\n",
      "RangeIndex: 891 entries, 0 to 890\n",
      "Data columns (total 15 columns):\n",
      " #   Column       Non-Null Count  Dtype   \n",
      "---  ------       --------------  -----   \n",
      " 0   survived     891 non-null    int64   \n",
      " 1   pclass       891 non-null    int64   \n",
      " 2   sex          891 non-null    object  \n",
      " 3   age          714 non-null    float64 \n",
      " 4   sibsp        891 non-null    int64   \n",
      " 5   parch        891 non-null    int64   \n",
      " 6   fare         891 non-null    float64 \n",
      " 7   embarked     889 non-null    object  \n",
      " 8   class        891 non-null    category\n",
      " 9   who          891 non-null    object  \n",
      " 10  adult_male   891 non-null    bool    \n",
      " 11  deck         203 non-null    category\n",
      " 12  embark_town  889 non-null    object  \n",
      " 13  alive        891 non-null    object  \n",
      " 14  alone        891 non-null    bool    \n",
      "dtypes: bool(2), category(2), float64(2), int64(4), object(5)\n",
      "memory usage: 80.7+ KB\n",
      "None\n",
      "**************************\n",
      "         survived      pclass         age       sibsp       parch        fare\n",
      "count  891.000000  891.000000  714.000000  891.000000  891.000000  891.000000\n",
      "mean     0.383838    2.308642   29.699118    0.523008    0.381594   32.204208\n",
      "std      0.486592    0.836071   14.526497    1.102743    0.806057   49.693429\n",
      "min      0.000000    1.000000    0.420000    0.000000    0.000000    0.000000\n",
      "25%      0.000000    2.000000   20.125000    0.000000    0.000000    7.910400\n",
      "50%      0.000000    3.000000   28.000000    0.000000    0.000000   14.454200\n",
      "75%      1.000000    3.000000   38.000000    1.000000    0.000000   31.000000\n",
      "max      1.000000    3.000000   80.000000    8.000000    6.000000  512.329200\n",
      "**************************\n",
      "Index(['survived', 'pclass', 'sex', 'age', 'sibsp', 'parch', 'fare',\n",
      "       'embarked', 'class', 'who', 'adult_male', 'deck', 'embark_town',\n",
      "       'alive', 'alone'],\n",
      "      dtype='object')\n"
     ]
    }
   ],
   "source": [
    "print(df.info())\n",
    "print('**************************')\n",
    "print(df.describe())\n",
    "print('**************************')\n",
    "print(df.columns)"
   ]
  },
  {
   "cell_type": "code",
   "execution_count": 16,
   "id": "e1a0ce2b-e37f-465a-b588-ec7075094c64",
   "metadata": {
    "tags": []
   },
   "outputs": [
    {
     "name": "stdout",
     "output_type": "stream",
     "text": [
      "0      22.0\n",
      "1      38.0\n",
      "2      26.0\n",
      "3      35.0\n",
      "4      35.0\n",
      "       ... \n",
      "886    27.0\n",
      "887    19.0\n",
      "888     NaN\n",
      "889    26.0\n",
      "890    32.0\n",
      "Name: age, Length: 891, dtype: float64\n",
      "     survived  pclass     sex   age  sibsp  parch      fare embarked   class  \\\n",
      "33          0       2    male  66.0      0      0   10.5000        S  Second   \n",
      "54          0       1    male  65.0      0      1   61.9792        C   First   \n",
      "96          0       1    male  71.0      0      0   34.6542        C   First   \n",
      "116         0       3    male  70.5      0      0    7.7500        Q   Third   \n",
      "170         0       1    male  61.0      0      0   33.5000        S   First   \n",
      "252         0       1    male  62.0      0      0   26.5500        S   First   \n",
      "275         1       1  female  63.0      1      0   77.9583        S   First   \n",
      "280         0       3    male  65.0      0      0    7.7500        Q   Third   \n",
      "326         0       3    male  61.0      0      0    6.2375        S   Third   \n",
      "438         0       1    male  64.0      1      4  263.0000        S   First   \n",
      "456         0       1    male  65.0      0      0   26.5500        S   First   \n",
      "483         1       3  female  63.0      0      0    9.5875        S   Third   \n",
      "493         0       1    male  71.0      0      0   49.5042        C   First   \n",
      "545         0       1    male  64.0      0      0   26.0000        S   First   \n",
      "555         0       1    male  62.0      0      0   26.5500        S   First   \n",
      "570         1       2    male  62.0      0      0   10.5000        S  Second   \n",
      "625         0       1    male  61.0      0      0   32.3208        S   First   \n",
      "630         1       1    male  80.0      0      0   30.0000        S   First   \n",
      "672         0       2    male  70.0      0      0   10.5000        S  Second   \n",
      "745         0       1    male  70.0      1      1   71.0000        S   First   \n",
      "829         1       1  female  62.0      0      0   80.0000      NaN   First   \n",
      "851         0       3    male  74.0      0      0    7.7750        S   Third   \n",
      "\n",
      "       who  adult_male deck  embark_town alive  alone  \n",
      "33     man        True  NaN  Southampton    no   True  \n",
      "54     man        True    B    Cherbourg    no  False  \n",
      "96     man        True    A    Cherbourg    no   True  \n",
      "116    man        True  NaN   Queenstown    no   True  \n",
      "170    man        True    B  Southampton    no   True  \n",
      "252    man        True    C  Southampton    no   True  \n",
      "275  woman       False    D  Southampton   yes  False  \n",
      "280    man        True  NaN   Queenstown    no   True  \n",
      "326    man        True  NaN  Southampton    no   True  \n",
      "438    man        True    C  Southampton    no  False  \n",
      "456    man        True    E  Southampton    no   True  \n",
      "483  woman       False  NaN  Southampton   yes   True  \n",
      "493    man        True  NaN    Cherbourg    no   True  \n",
      "545    man        True  NaN  Southampton    no   True  \n",
      "555    man        True  NaN  Southampton    no   True  \n",
      "570    man        True  NaN  Southampton   yes   True  \n",
      "625    man        True    D  Southampton    no   True  \n",
      "630    man        True    A  Southampton   yes   True  \n",
      "672    man        True  NaN  Southampton    no   True  \n",
      "745    man        True    B  Southampton    no  False  \n",
      "829  woman       False    B          NaN   yes   True  \n",
      "851    man        True  NaN  Southampton    no   True  \n",
      "    age     sex     fare\n",
      "0  22.0    male   7.2500\n",
      "1  38.0  female  71.2833\n",
      "2  26.0  female   7.9250\n",
      "3  35.0  female  53.1000\n",
      "4  35.0    male   8.0500\n",
      "5   NaN    male   8.4583\n"
     ]
    }
   ],
   "source": [
    "print(df['age'])\n",
    "\n",
    "print(df[df['age']>60])\n",
    "\n",
    "print(df.loc[0:5, ['age', 'sex', 'fare']])"
   ]
  },
  {
   "cell_type": "code",
   "execution_count": 22,
   "id": "1fc55619-32be-4d82-8009-691f5e1c418d",
   "metadata": {
    "tags": []
   },
   "outputs": [
    {
     "name": "stdout",
     "output_type": "stream",
     "text": [
      "      fare  fare_per_person\n",
      "0   7.2500          3.62500\n",
      "1  71.2833         35.64165\n",
      "2   7.9250          7.92500\n",
      "3  53.1000         26.55000\n",
      "4   8.0500          8.05000\n"
     ]
    }
   ],
   "source": [
    "df['fare_per_person'] = df['fare']/(df['parch'] + df['sibsp'] + 1)\n",
    "print(df[['fare', 'fare_per_person']].head())"
   ]
  },
  {
   "cell_type": "code",
   "execution_count": 24,
   "id": "cd9b64b9-4f74-437d-a17f-37dfb90e7d18",
   "metadata": {
    "tags": []
   },
   "outputs": [
    {
     "name": "stdout",
     "output_type": "stream",
     "text": [
      "Female survivors count: 233\n"
     ]
    }
   ],
   "source": [
    "female_survivors = df[(df['sex'] == 'female') & (df['survived'] == 1)]\n",
    "print(\"Female survivors count:\", len(female_survivors))"
   ]
  },
  {
   "cell_type": "code",
   "execution_count": null,
   "id": "3859d5a4-1c3c-4173-b05b-f8036501b672",
   "metadata": {},
   "outputs": [],
   "source": []
  }
 ],
 "metadata": {
  "kernelspec": {
   "display_name": "Python 3 (ipykernel)",
   "language": "python",
   "name": "python3"
  },
  "language_info": {
   "codemirror_mode": {
    "name": "ipython",
    "version": 3
   },
   "file_extension": ".py",
   "mimetype": "text/x-python",
   "name": "python",
   "nbconvert_exporter": "python",
   "pygments_lexer": "ipython3",
   "version": "3.11.5"
  }
 },
 "nbformat": 4,
 "nbformat_minor": 5
}
