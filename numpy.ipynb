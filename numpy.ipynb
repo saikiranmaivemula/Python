{
 "cells": [
  {
   "cell_type": "code",
   "execution_count": 2,
   "id": "7e4937b0-0472-43df-8d59-bcee5b39e357",
   "metadata": {
    "tags": []
   },
   "outputs": [
    {
     "name": "stdout",
     "output_type": "stream",
     "text": [
      "Array a: [1 2 3]\n",
      "Array b:\n",
      " [[1 2 3]\n",
      " [4 5 6]]\n"
     ]
    }
   ],
   "source": [
    "import numpy as np\n",
    "\n",
    "a = np.array([1,2,3])\n",
    "b = np.array([[1,2,3],[4,5,6]])\n",
    "\n",
    "print(\"Array a:\", a)\n",
    "print(\"Array b:\\n\", b)\n"
   ]
  },
  {
   "cell_type": "code",
   "execution_count": 4,
   "id": "2c1be1b8-332c-40f7-a7a1-db2c1e86dafc",
   "metadata": {
    "tags": []
   },
   "outputs": [
    {
     "name": "stdout",
     "output_type": "stream",
     "text": [
      "Shape of b: (2, 3)\n",
      "First row: [1 2 3]\n",
      "Element at (1,2): 6\n"
     ]
    }
   ],
   "source": [
    "print(\"Shape of b:\", b.shape)\n",
    "print(\"First row:\", b[0])\n",
    "print(\"Element at (1,2):\", b[1,2])"
   ]
  },
  {
   "cell_type": "code",
   "execution_count": 6,
   "id": "e009697e-69a9-4204-bc56-9c476b6849d0",
   "metadata": {
    "tags": []
   },
   "outputs": [
    {
     "name": "stdout",
     "output_type": "stream",
     "text": [
      "Sum: [5 7 9]\n",
      "Element-wise square: [1 4 9]\n",
      "Dot product: 32\n"
     ]
    }
   ],
   "source": [
    "x = np.array([1,2,3])\n",
    "y = np.array([4,5,6])\n",
    "\n",
    "print(\"Sum:\", x+y)\n",
    "print(\"Element-wise square:\", x **2)\n",
    "print(\"Dot product:\", np.dot(x,y))"
   ]
  },
  {
   "cell_type": "code",
   "execution_count": 10,
   "id": "9b930958-b74e-44c3-96dc-937c79f393a3",
   "metadata": {
    "tags": []
   },
   "outputs": [
    {
     "name": "stdout",
     "output_type": "stream",
     "text": [
      "Zeros:\n",
      " [[0. 0. 0.]\n",
      " [0. 0. 0.]]\n",
      "Linspace: [0.   0.25 0.5  0.75 1.  ]\n"
     ]
    }
   ],
   "source": [
    "zeros = np.zeros((2,3))\n",
    "ones = np.ones((3,3))\n",
    "range_arr = np.arange(10)\n",
    "linspace_arr = np.linspace(0,1,5)\n",
    "\n",
    "print(\"Zeros:\\n\", zeros)\n",
    "print(\"Linspace:\", linspace_arr)"
   ]
  },
  {
   "cell_type": "code",
   "execution_count": 12,
   "id": "e01d3725-3fe6-48e7-b6dc-342662d18769",
   "metadata": {
    "tags": []
   },
   "outputs": [
    {
     "name": "stdout",
     "output_type": "stream",
     "text": [
      "Matirx multiplication result:\n",
      " [[19 22]\n",
      " [43 50]]\n"
     ]
    }
   ],
   "source": [
    "A = np.array([[1,2], [3,4]])\n",
    "B = np.array([[5,6], [7,8]])\n",
    "\n",
    "C = np.dot(A,B)\n",
    "print(\"Matirx multiplication result:\\n\", C)"
   ]
  },
  {
   "cell_type": "code",
   "execution_count": null,
   "id": "7e447748-9e62-4c7a-b1fa-f2881e7ea1ed",
   "metadata": {},
   "outputs": [],
   "source": []
  }
 ],
 "metadata": {
  "kernelspec": {
   "display_name": "Python 3 (ipykernel)",
   "language": "python",
   "name": "python3"
  },
  "language_info": {
   "codemirror_mode": {
    "name": "ipython",
    "version": 3
   },
   "file_extension": ".py",
   "mimetype": "text/x-python",
   "name": "python",
   "nbconvert_exporter": "python",
   "pygments_lexer": "ipython3",
   "version": "3.11.5"
  }
 },
 "nbformat": 4,
 "nbformat_minor": 5
}
