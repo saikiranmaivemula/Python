{
 "cells": [
  {
   "cell_type": "code",
   "execution_count": 1,
   "id": "46c98dd4-b092-4a68-9b6c-b353a46c0b23",
   "metadata": {
    "tags": []
   },
   "outputs": [
    {
     "name": "stdout",
     "output_type": "stream",
     "text": [
      "Updated list: ['apple', 'cherry', 'mango']\n",
      "First fruit: apple\n"
     ]
    }
   ],
   "source": [
    "#List operations\n",
    "\n",
    "fruits = [\"apple\", \"banana\", \"cherry\"]\n",
    "fruits.append(\"mango\")\n",
    "fruits.remove(\"banana\")\n",
    "print(\"Updated list:\", fruits)\n",
    "print(\"First fruit:\", fruits[0])"
   ]
  },
  {
   "cell_type": "code",
   "execution_count": 3,
   "id": "71a3bb38-eccf-42af-9aed-8d8ac694c41b",
   "metadata": {
    "tags": []
   },
   "outputs": [
    {
     "name": "stdout",
     "output_type": "stream",
     "text": [
      "Width: 1920\n",
      "Height: 1080\n"
     ]
    }
   ],
   "source": [
    "#Tuple basics\n",
    "dimensions = (1920, 1080)\n",
    "print(\"Width:\", dimensions[0])\n",
    "print(\"Height:\", dimensions[1])"
   ]
  },
  {
   "cell_type": "code",
   "execution_count": 5,
   "id": "c49d4727-fb7c-48e5-ae01-69de58a43b8b",
   "metadata": {
    "tags": []
   },
   "outputs": [
    {
     "name": "stdout",
     "output_type": "stream",
     "text": [
      "Available colors: {'green', 'red', 'yellow'}\n"
     ]
    }
   ],
   "source": [
    "#Set Operations\n",
    "colors = {\"red\", \"blue\", \"green\"}\n",
    "colors.add(\"yellow\")\n",
    "colors.discard(\"blue\")\n",
    "print(\"Available colors:\", colors)"
   ]
  },
  {
   "cell_type": "code",
   "execution_count": 9,
   "id": "adecde0f-fdfc-4906-bb54-b2d63f333091",
   "metadata": {
    "tags": []
   },
   "outputs": [
    {
     "name": "stdout",
     "output_type": "stream",
     "text": [
      "Student Info:\n",
      "name : Kiran\n",
      "age : 25\n",
      "course : AI\n"
     ]
    }
   ],
   "source": [
    "#Dictionary \n",
    "student = {\n",
    "    \"name\": \"Kiran\",\n",
    "    \"age\": 25,\n",
    "    \"course\": \"AI\"\n",
    "}\n",
    "print(\"Student Info:\")\n",
    "for key, value in student.items():\n",
    "    print(key, \":\", value)"
   ]
  },
  {
   "cell_type": "code",
   "execution_count": 13,
   "id": "f853a88a-1c45-464b-9193-7d3bf43b9d7f",
   "metadata": {
    "tags": []
   },
   "outputs": [
    {
     "name": "stdout",
     "output_type": "stream",
     "text": [
      "Word Frequencies: {'learning': 1, 'python': 1, 'is': 1, 'fun': 1, 'and': 1, 'powerful': 1}\n"
     ]
    }
   ],
   "source": [
    "#Word count from sentence\n",
    "sentence = \"learning python is fun and powerful\"\n",
    "word_count = {}\n",
    "\n",
    "for word in sentence.split():\n",
    "    word_count[word] = word_count.get(word,0) +1\n",
    "    \n",
    "print(\"Word Frequencies:\", word_count)"
   ]
  },
  {
   "cell_type": "code",
   "execution_count": null,
   "id": "de031851-c9da-4a4c-a36b-f64c8554f4d9",
   "metadata": {},
   "outputs": [],
   "source": []
  }
 ],
 "metadata": {
  "kernelspec": {
   "display_name": "Python 3 (ipykernel)",
   "language": "python",
   "name": "python3"
  },
  "language_info": {
   "codemirror_mode": {
    "name": "ipython",
    "version": 3
   },
   "file_extension": ".py",
   "mimetype": "text/x-python",
   "name": "python",
   "nbconvert_exporter": "python",
   "pygments_lexer": "ipython3",
   "version": "3.11.5"
  }
 },
 "nbformat": 4,
 "nbformat_minor": 5
}
