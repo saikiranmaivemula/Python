{
 "cells": [
  {
   "cell_type": "code",
   "execution_count": 1,
   "id": "47e0ef3c-6666-4254-a648-bee3998d2e79",
   "metadata": {
    "tags": []
   },
   "outputs": [
    {
     "name": "stdin",
     "output_type": "stream",
     "text": [
      "Enter a number:  2\n"
     ]
    },
    {
     "name": "stdout",
     "output_type": "stream",
     "text": [
      "Positive\n"
     ]
    }
   ],
   "source": [
    "#Check if a number is positive, negative or zero\n",
    "\n",
    "num = int(input(\"Enter a number: \"))\n",
    "\n",
    "if num>0:\n",
    "    print(\"Positive\")\n",
    "elif num<0:\n",
    "    print(\"Negative\")\n",
    "else:\n",
    "    print(\"Zero\")"
   ]
  },
  {
   "cell_type": "code",
   "execution_count": 5,
   "id": "fb9ce285-3fa5-4588-8e2e-ad68a778beff",
   "metadata": {
    "tags": []
   },
   "outputs": [
    {
     "name": "stdout",
     "output_type": "stream",
     "text": [
      "2 4 6 8 10 12 14 16 18 20 "
     ]
    }
   ],
   "source": [
    "#Print all even numbers from 1 to 20\n",
    "\n",
    "for i in range(1,21):\n",
    "    if i%2 == 0:\n",
    "        print(i, end=' ')"
   ]
  },
  {
   "cell_type": "code",
   "execution_count": 7,
   "id": "01a2cf83-a6d6-4d93-9be5-fce7e8289637",
   "metadata": {
    "tags": []
   },
   "outputs": [
    {
     "name": "stdout",
     "output_type": "stream",
     "text": [
      "Sum from 1 to 100 is:  5050\n"
     ]
    }
   ],
   "source": [
    "#Sum all numbers from 1 to 100 using while loop\n",
    "\n",
    "total = 0\n",
    "i = 1\n",
    "\n",
    "while i <= 100:\n",
    "    total += i\n",
    "    i += 1\n",
    "print(\"Sum from 1 to 100 is: \", total)"
   ]
  }
 ],
 "metadata": {
  "kernelspec": {
   "display_name": "Python 3 (ipykernel)",
   "language": "python",
   "name": "python3"
  },
  "language_info": {
   "codemirror_mode": {
    "name": "ipython",
    "version": 3
   },
   "file_extension": ".py",
   "mimetype": "text/x-python",
   "name": "python",
   "nbconvert_exporter": "python",
   "pygments_lexer": "ipython3",
   "version": "3.11.5"
  }
 },
 "nbformat": 4,
 "nbformat_minor": 5
}
