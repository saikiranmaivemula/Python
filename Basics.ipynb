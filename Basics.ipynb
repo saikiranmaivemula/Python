{
 "cells": [
  {
   "cell_type": "code",
   "execution_count": 5,
   "id": "b0a69f23-eaee-402d-845b-ddf77ef8de6a",
   "metadata": {
    "tags": []
   },
   "outputs": [
    {
     "name": "stdout",
     "output_type": "stream",
     "text": [
      "There once was a man named Geroge\n",
      "He was 70 years old\n"
     ]
    }
   ],
   "source": [
    "print(\"There once was a man named Geroge\")\n",
    "print(\"He was 70 years old\")"
   ]
  },
  {
   "cell_type": "raw",
   "id": "0dafe6e9-5d02-4f75-b763-992af63285f5",
   "metadata": {},
   "source": [
    "Variables and Data Types"
   ]
  },
  {
   "cell_type": "code",
   "execution_count": 21,
   "id": "f7efbe87-4e59-4f5e-ae34-c9b37092c25a",
   "metadata": {
    "tags": []
   },
   "outputs": [],
   "source": [
    "character_name = \"John\"\n",
    "character_age = 50\n",
    "is_male = False"
   ]
  },
  {
   "cell_type": "code",
   "execution_count": 25,
   "id": "eb7f91a6-44e3-4510-8a63-97044d29be57",
   "metadata": {
    "tags": []
   },
   "outputs": [
    {
     "name": "stdout",
     "output_type": "stream",
     "text": [
      "There once was a man named John,\n",
      "He was  50  years old\n"
     ]
    }
   ],
   "source": [
    "print(\"There once was a man named \" + character_name + \",\")\n",
    "print(\"He was \",  character_age, \" years old\")"
   ]
  },
  {
   "cell_type": "raw",
   "id": "109cbe0e-2018-45f4-bdce-421643916721",
   "metadata": {},
   "source": [
    "Strings"
   ]
  },
  {
   "cell_type": "code",
   "execution_count": 49,
   "id": "91a3b1db-3def-4964-a8de-eba26990e416",
   "metadata": {
    "tags": []
   },
   "outputs": [
    {
     "name": "stdout",
     "output_type": "stream",
     "text": [
      "Kushala\n",
      "****************************\n",
      "Kushala \n",
      "Learning space\n",
      "****************************\n",
      "kushala\n",
      "****************************\n",
      "kushala is cool\n",
      "****************************\n"
     ]
    }
   ],
   "source": [
    "print(\"Kushala\")\n",
    "print(\"****************************\")\n",
    "print(\"Kushala \\nLearning space\")\n",
    "print(\"****************************\")\n",
    "\n",
    "name = \"kushala\"\n",
    "print(name)\n",
    "print(\"****************************\")\n",
    "\n",
    "\n",
    "print(name + \" is cool\")\n",
    "print(\"****************************\")\n"
   ]
  },
  {
   "cell_type": "raw",
   "id": "c1b13713-d65a-4744-a523-2a1d371b2f1a",
   "metadata": {},
   "source": [
    "Functions"
   ]
  },
  {
   "cell_type": "code",
   "execution_count": 57,
   "id": "37de537c-2633-401b-886f-707e5a83e55d",
   "metadata": {
    "tags": []
   },
   "outputs": [
    {
     "name": "stdout",
     "output_type": "stream",
     "text": [
      "kushala\n",
      "KUSHALA\n",
      "False\n",
      "False\n"
     ]
    }
   ],
   "source": [
    "name = \"Kushala\"\n",
    "print(name.lower())\n",
    "print(name.upper())\n",
    "print(name.islower())\n",
    "print(name.isupper())\n"
   ]
  },
  {
   "cell_type": "code",
   "execution_count": 61,
   "id": "cc371763-b80c-481b-8853-565720420b1e",
   "metadata": {
    "tags": []
   },
   "outputs": [
    {
     "name": "stdout",
     "output_type": "stream",
     "text": [
      "7\n",
      "h\n"
     ]
    }
   ],
   "source": [
    "print(len(name))\n",
    "print(name[3])"
   ]
  },
  {
   "cell_type": "code",
   "execution_count": 73,
   "id": "eb4672e6-c658-4345-9739-57f56c1fa96f",
   "metadata": {
    "tags": []
   },
   "outputs": [
    {
     "name": "stdout",
     "output_type": "stream",
     "text": [
      "0\n",
      "1\n",
      "5\n"
     ]
    }
   ],
   "source": [
    "print(name.index(\"Kush\"))\n",
    "print(name.index(\"u\"))\n",
    "print(name.index(\"l\"))"
   ]
  },
  {
   "cell_type": "code",
   "execution_count": 77,
   "id": "15a66907-c55e-4da7-8482-b491bff52417",
   "metadata": {
    "tags": []
   },
   "outputs": [
    {
     "name": "stdout",
     "output_type": "stream",
     "text": [
      "kuushhala\n"
     ]
    }
   ],
   "source": [
    "print(name.replace(\"Kush\", \"kuushh\"))"
   ]
  },
  {
   "cell_type": "raw",
   "id": "b295201a-684c-488a-a8e0-5f08becb4aa2",
   "metadata": {},
   "source": [
    "Numbers"
   ]
  },
  {
   "cell_type": "code",
   "execution_count": 95,
   "id": "a475e9f5-b648-4500-bff2-6be72b3ab2d8",
   "metadata": {
    "tags": []
   },
   "outputs": [
    {
     "name": "stdout",
     "output_type": "stream",
     "text": [
      "2\n",
      "0.4728\n",
      "-268.45\n",
      "12\n",
      "8.54\n",
      "2\n",
      "36\n",
      "14\n"
     ]
    }
   ],
   "source": [
    "print(2)\n",
    "print(0.4728)\n",
    "print(-268.45)\n",
    "print(9+3)\n",
    "print(9 - 0.46)\n",
    "print(3 + 5 - 6)\n",
    "print( 3 * (9+3))\n",
    "print(974 % 32)"
   ]
  },
  {
   "cell_type": "code",
   "execution_count": 99,
   "id": "ae9e7d3e-dfc0-4620-8e00-249c5df5e5f6",
   "metadata": {
    "tags": []
   },
   "outputs": [
    {
     "name": "stdout",
     "output_type": "stream",
     "text": [
      "-5\n"
     ]
    }
   ],
   "source": [
    "my_num = - 5\n",
    "print(my_num)"
   ]
  },
  {
   "cell_type": "code",
   "execution_count": 113,
   "id": "82899534-9f1b-4d83-980d-75344236006a",
   "metadata": {
    "tags": []
   },
   "outputs": [
    {
     "name": "stdout",
     "output_type": "stream",
     "text": [
      "5\n",
      "-5 is my fav\n"
     ]
    }
   ],
   "source": [
    "print(abs(my_num))\n",
    "print(my_num , \"is my fav\")\n"
   ]
  },
  {
   "cell_type": "code",
   "execution_count": 121,
   "id": "5ad398e7-fb53-488b-8af4-b3d42f7c028e",
   "metadata": {
    "tags": []
   },
   "outputs": [
    {
     "name": "stdout",
     "output_type": "stream",
     "text": [
      "95367431640625\n",
      "482\n",
      "389\n",
      "3\n",
      "4\n"
     ]
    }
   ],
   "source": [
    "print(pow(my_num,20))\n",
    "print(max(389, 482))\n",
    "print(min(389, 482))\n",
    "print(round(3.289))\n",
    "print(round(3.789))"
   ]
  },
  {
   "cell_type": "code",
   "execution_count": 129,
   "id": "60c60309-5fd9-4459-a793-27b63edb89be",
   "metadata": {
    "tags": []
   },
   "outputs": [
    {
     "name": "stdout",
     "output_type": "stream",
     "text": [
      "3\n",
      "4\n",
      "186.50201071302155\n"
     ]
    }
   ],
   "source": [
    "from math import *\n",
    "print(floor(3.7))\n",
    "print(ceil(3.7))\n",
    "print(sqrt(34783))"
   ]
  },
  {
   "cell_type": "code",
   "execution_count": 135,
   "id": "11e1e501-fc18-4718-9456-109900d1d503",
   "metadata": {
    "tags": []
   },
   "outputs": [
    {
     "name": "stdout",
     "output_type": "stream",
     "text": [
      "numbers: [2, 4, 5, 3, 7]\n",
      "sqaures: [4, 16, 25, 9, 49]\n"
     ]
    }
   ],
   "source": [
    "#List of 5 numbers and squares\n",
    "numbers = [2,4,5,3,7]\n",
    "squares = [num ** 2 for num in numbers]\n",
    "\n",
    "print(\"numbers:\", numbers)\n",
    "print(\"sqaures:\", squares)\n",
    "\n",
    "\n"
   ]
  },
  {
   "cell_type": "code",
   "execution_count": 149,
   "id": "f28c9653-4273-44a6-89b9-b3501375beb6",
   "metadata": {
    "tags": []
   },
   "outputs": [
    {
     "name": "stdout",
     "output_type": "stream",
     "text": [
      "Is 7 prime? True\n",
      "Is 12 prime? False\n"
     ]
    }
   ],
   "source": [
    "#Is prime\n",
    "def isprime(n):\n",
    "    if n<=1:\n",
    "        return False\n",
    "    for i in range(2, int(n**0.5) + 1):\n",
    "        if n%i == 0:\n",
    "            return False       \n",
    "    return True\n",
    "    \n",
    "print(\"Is 7 prime?\", isprime(7))\n",
    "print(\"Is 12 prime?\", isprime(12))"
   ]
  },
  {
   "cell_type": "code",
   "execution_count": 153,
   "id": "a9ae7dd0-364e-4636-97c9-549addf36dc3",
   "metadata": {
    "tags": []
   },
   "outputs": [
    {
     "name": "stdout",
     "output_type": "stream",
     "text": [
      "Fruits and their prices:\n",
      "Apple: $100\n",
      "Banana: $50\n",
      "Mango: $200\n"
     ]
    }
   ],
   "source": [
    "#Dictionary of 3 fruits and their prices\n",
    "\n",
    "fruit_prices = {\n",
    "    \"Apple\":100,\n",
    "    \"Banana\":50,\n",
    "    \"Mango\":200\n",
    "}\n",
    "\n",
    "print(\"Fruits and their prices:\")\n",
    "for fruit, price in fruit_prices.items():\n",
    "    print(f\"{fruit}: ${price}\")"
   ]
  },
  {
   "cell_type": "code",
   "execution_count": null,
   "id": "b06bd7c1-5297-4dfa-ad37-7a815dc71f71",
   "metadata": {},
   "outputs": [],
   "source": []
  }
 ],
 "metadata": {
  "kernelspec": {
   "display_name": "Python 3 (ipykernel)",
   "language": "python",
   "name": "python3"
  },
  "language_info": {
   "codemirror_mode": {
    "name": "ipython",
    "version": 3
   },
   "file_extension": ".py",
   "mimetype": "text/x-python",
   "name": "python",
   "nbconvert_exporter": "python",
   "pygments_lexer": "ipython3",
   "version": "3.11.5"
  }
 },
 "nbformat": 4,
 "nbformat_minor": 5
}
